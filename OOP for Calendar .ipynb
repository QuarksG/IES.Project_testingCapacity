{
 "cells": [
  {
   "cell_type": "code",
   "execution_count": 5,
   "id": "cf5fdad3",
   "metadata": {},
   "outputs": [],
   "source": [
    "import requests\n",
    "from bs4 import BeautifulSoup\n",
    "\n",
    "\n",
    "class CalendarByDate:\n",
    "\n",
    "    def __init__(self, url):\n",
    "        self.content = requests.get(url).text\n",
    "\n",
    "    def get_info(self):\n",
    "        soup = BeautifulSoup(self.content,features=\"html.parser\")\n",
    "        table = soup.find('div', attrs={'class': 'info'})\n",
    "        table_body = table.find('table')\n",
    "        rows = table_body.find_all('tr')\n",
    "        data = []\n",
    "        for row in rows:\n",
    "            cols = row.find_all('td')\n",
    "            cols = [ele.text.strip() for ele in cols]\n",
    "            data.append(cols)\n",
    "        dict = {}\n",
    "        for datum in data:\n",
    "            dict[datum[0]] = datum[1]\n",
    "        return dict\n",
    "    def get_calendar(self):\n",
    "        soup = BeautifulSoup(self.content, features=\"html.parser\")\n",
    "        table = soup.find('div', attrs={'class': 'slots__list'})\n",
    "        tops = table.find_all('div',attrs={'class': 'slots__top'})\n",
    "        toplist = []\n",
    "        for top in tops:\n",
    "            p0 = top.find_all('p')[0].text\n",
    "            p1 = top.find_all('p')[1].text\n",
    "            toplist.append('{} {}'.format(p0,p1))\n",
    "        bottoms = table.find_all('div', attrs={'class': 'slots__bottom'})\n",
    "        bottomlist = []\n",
    "        for bottom in bottoms:\n",
    "            p = bottom.find('p').text\n",
    "            bottomlist.append(p)\n",
    "        dict = {}\n",
    "        for x in list(zip(toplist,bottomlist)):\n",
    "            dict[x[0]] = x[1]\n",
    "        return dict"
   ]
  },
  {
   "cell_type": "code",
   "execution_count": 7,
   "id": "2cf004f6",
   "metadata": {},
   "outputs": [
    {
     "name": "stdout",
     "output_type": "stream",
     "text": [
      "Clinic information:\n",
      "                         Name  \\\n",
      "0                      Adresa   \n",
      "1            Upřesnění polohy   \n",
      "2                     Telefon   \n",
      "3                    Poznámka   \n",
      "4                      Příjem   \n",
      "5           Cena za samoodběř   \n",
      "6            Způsob rezervace   \n",
      "7  Odkaz na rezervační systém   \n",
      "8                    DRIVE-IN   \n",
      "\n",
      "                                               Value  \n",
      "0  Park na křižovatce ulic Ravennská a Milánská, ...  \n",
      "1  Zelené oplocení v parku na křižovatce ulic Rav...  \n",
      "2                                      +420771156107  \n",
      "3  Rezervaci je nutno provést na webových stránká...  \n",
      "4                     Osoby se žádankou i samoplátce  \n",
      "5                                                     \n",
      "6                                Přes webové stránky  \n",
      "7                                     www.vysetri.me  \n",
      "8                                                 Ne  \n",
      "Clinic calendar:\n",
      "       Date                  Capacity\n",
      "0  Po 13.9.        Maximální kapacita\n",
      "1  Út 14.9.  Volná kapacita 105 z 106\n",
      "2  St 15.9.  Volná kapacita 104 z 106\n",
      "3  Čt 16.9.  Volná kapacita 105 z 106\n",
      "4  Pá 17.9.  Volná kapacita 100 z 106\n",
      "5  So 18.9.  Volná kapacita 103 z 106\n",
      "6  Ne 19.9.  Volná kapacita 106 z 106\n"
     ]
    }
   ],
   "source": [
    "#from CalendarByDate import CalendarByDate\n",
    "import pandas as pd\n",
    "\n",
    "url = \"https://testovani.uzis.cz/Detail?id=42c85d23-21e4-4fe9-baef-9ab06c0cbe6d&backURL=/\"\n",
    "obj = CalendarByDate(url)\n",
    "info = obj.get_info()\n",
    "print('Clinic information:')\n",
    "tbl1 = pd.DataFrame(info.items(), columns=['Name', 'Value'])\n",
    "print(tbl1)\n",
    "calendar = obj.get_calendar()\n",
    "print('Clinic calendar:')\n",
    "tbl2 = pd.DataFrame(calendar.items(), columns=['Date', 'Capacity'])\n",
    "print(tbl2)"
   ]
  }
 ],
 "metadata": {
  "kernelspec": {
   "display_name": "Python 3",
   "language": "python",
   "name": "python3"
  },
  "language_info": {
   "codemirror_mode": {
    "name": "ipython",
    "version": 3
   },
   "file_extension": ".py",
   "mimetype": "text/x-python",
   "name": "python",
   "nbconvert_exporter": "python",
   "pygments_lexer": "ipython3",
   "version": "3.8.8"
  }
 },
 "nbformat": 4,
 "nbformat_minor": 5
}
