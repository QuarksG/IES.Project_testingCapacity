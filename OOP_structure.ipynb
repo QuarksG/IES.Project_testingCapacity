{
 "cells": [
  {
   "cell_type": "markdown",
   "metadata": {},
   "source": [
    "The OOP structure should consist of following objects: Place, DateCapacity, Region. TestingPlace object is the main object in our project and in order to have all data consistent and in order, we will work with TestingPlace ID as an unique identifier instead of the Name."
   ]
  },
  {
   "cell_type": "markdown",
   "metadata": {},
   "source": [
    "Create TestingPlace class"
   ]
  },
  {
   "cell_type": "code",
   "execution_count": 1,
   "metadata": {},
   "outputs": [],
   "source": [
    "class Place:\n",
    "    \n",
    "    def __init__(self, id, URL_address, region):\n",
    "        self.id = id\n",
    "        self.URL_address = URL_address\n",
    "        self.region = region\n",
    "    \n",
    "    def basics(self):\n",
    "        return f\"TestingCapacity record with id {self.id} can be found at {self.URL_address}\""
   ]
  },
  {
   "cell_type": "markdown",
   "metadata": {},
   "source": [
    "TestingDate object keeps and information about the Date for which testing capacities were scraped."
   ]
  },
  {
   "cell_type": "code",
   "execution_count": 2,
   "metadata": {},
   "outputs": [],
   "source": [
    "class TestingDate:\n",
    "\n",
    "    def __init__(self, date):\n",
    "        self.date = date"
   ]
  },
  {
   "cell_type": "markdown",
   "metadata": {},
   "source": [
    "PlaceTestingDateRelationship object is a child object of TestingCapacity. It is used to create connection between a TestingCapacity and certain TestingDate object. Here, all data from our repeated scrapes should be stored."
   ]
  },
  {
   "cell_type": "code",
   "execution_count": 3,
   "metadata": {},
   "outputs": [],
   "source": [
    "class PlaceTestingDateRelationship:\n",
    "\n",
    "    \n",
    "    \n",
    "    def __init__(self, Place, TestingDate):\n",
    "        self.Place = Place\n",
    "        self.TestingDate = TestingDate\n"
   ]
  },
  {
   "cell_type": "markdown",
   "metadata": {},
   "source": [
    "ScrapedToDay object is a child of PlaceTestingDateRelationship. Current scraped information is stored in this object besically storing a snapshot of how the capacity looked like each day. Usually, each PlaceTestingDateRelationship should have 7 ScrapedToDay records related to it because each day is displayed on the Place's calendar view (without JS \"scrolling\" included) for 7 days. \n",
    "\n",
    "There are a few options of outcomes on the calendar - \"Žádná data\" (variable nodata; default = false), \"Zavřeno\" (var closed; default = false)"
   ]
  },
  {
   "cell_type": "code",
   "execution_count": 7,
   "metadata": {},
   "outputs": [],
   "source": [
    "class ScrapedToDay:\n",
    "\n",
    "    def __init__(self, PlaceTestingDateRelationship, freeSpots, totalSpots, closed = \"false\", nodata = \"false\"):\n",
    "        self.PlaceTestingDateRelationship = PlaceTestingDateRelationship\n",
    "        self.closed = closed\n",
    "        self.nodata = nodata\n",
    "        self.freeSpots = freeSpots\n",
    "        self.totalSpots = totalSpots"
   ]
  }
 ],
 "metadata": {
  "kernelspec": {
   "display_name": "Python 3",
   "language": "python",
   "name": "python3"
  },
  "language_info": {
   "codemirror_mode": {
    "name": "ipython",
    "version": 3
   },
   "file_extension": ".py",
   "mimetype": "text/x-python",
   "name": "python",
   "nbconvert_exporter": "python",
   "pygments_lexer": "ipython3",
   "version": "3.8.5"
  },
  "orig_nbformat": 2
 },
 "nbformat": 4,
 "nbformat_minor": 2
}